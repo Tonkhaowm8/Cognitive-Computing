{
 "cells": [
  {
   "attachments": {},
   "cell_type": "markdown",
   "metadata": {},
   "source": [
    "Using KNN classification"
   ]
  },
  {
   "attachments": {},
   "cell_type": "markdown",
   "metadata": {},
   "source": [
    "Import Libraries"
   ]
  },
  {
   "cell_type": "code",
   "execution_count": 8,
   "metadata": {},
   "outputs": [],
   "source": [
    "import numpy as np\n",
    "import pandas as pd\n",
    "import matplotlib.pyplot as plt\n",
    "import seaborn as sns"
   ]
  },
  {
   "attachments": {},
   "cell_type": "markdown",
   "metadata": {},
   "source": [
    "Loading Dataset"
   ]
  },
  {
   "cell_type": "code",
   "execution_count": 9,
   "metadata": {},
   "outputs": [
    {
     "data": {
      "text/html": [
       "<div>\n",
       "<style scoped>\n",
       "    .dataframe tbody tr th:only-of-type {\n",
       "        vertical-align: middle;\n",
       "    }\n",
       "\n",
       "    .dataframe tbody tr th {\n",
       "        vertical-align: top;\n",
       "    }\n",
       "\n",
       "    .dataframe thead th {\n",
       "        text-align: right;\n",
       "    }\n",
       "</style>\n",
       "<table border=\"1\" class=\"dataframe\">\n",
       "  <thead>\n",
       "    <tr style=\"text-align: right;\">\n",
       "      <th></th>\n",
       "      <th>id</th>\n",
       "      <th>x1</th>\n",
       "      <th>x2</th>\n",
       "      <th>x3</th>\n",
       "      <th>x4</th>\n",
       "      <th>x5</th>\n",
       "      <th>x6</th>\n",
       "      <th>x7</th>\n",
       "      <th>x8</th>\n",
       "      <th>x9</th>\n",
       "      <th>x10</th>\n",
       "      <th>y</th>\n",
       "    </tr>\n",
       "  </thead>\n",
       "  <tbody>\n",
       "    <tr>\n",
       "      <th>0</th>\n",
       "      <td>id-001</td>\n",
       "      <td>22.34</td>\n",
       "      <td>0.56</td>\n",
       "      <td>g</td>\n",
       "      <td>o</td>\n",
       "      <td>u</td>\n",
       "      <td>9.43</td>\n",
       "      <td>25.38</td>\n",
       "      <td>-20.91</td>\n",
       "      <td>-25.84</td>\n",
       "      <td>4.08</td>\n",
       "      <td>B</td>\n",
       "    </tr>\n",
       "    <tr>\n",
       "      <th>1</th>\n",
       "      <td>id-002</td>\n",
       "      <td>-2.31</td>\n",
       "      <td>7.36</td>\n",
       "      <td>i</td>\n",
       "      <td>p</td>\n",
       "      <td>y</td>\n",
       "      <td>-3.94</td>\n",
       "      <td>NaN</td>\n",
       "      <td>31.65</td>\n",
       "      <td>12.95</td>\n",
       "      <td>9.82</td>\n",
       "      <td>C</td>\n",
       "    </tr>\n",
       "    <tr>\n",
       "      <th>2</th>\n",
       "      <td>id-003</td>\n",
       "      <td>-17.55</td>\n",
       "      <td>-4.09</td>\n",
       "      <td>f</td>\n",
       "      <td>l</td>\n",
       "      <td>v</td>\n",
       "      <td>-11.02</td>\n",
       "      <td>-1.77</td>\n",
       "      <td>-17.57</td>\n",
       "      <td>15.98</td>\n",
       "      <td>11.43</td>\n",
       "      <td>D</td>\n",
       "    </tr>\n",
       "    <tr>\n",
       "      <th>3</th>\n",
       "      <td>id-004</td>\n",
       "      <td>-13.54</td>\n",
       "      <td>-5.42</td>\n",
       "      <td>g</td>\n",
       "      <td>p</td>\n",
       "      <td>x</td>\n",
       "      <td>4.11</td>\n",
       "      <td>2.22</td>\n",
       "      <td>16.72</td>\n",
       "      <td>9.86</td>\n",
       "      <td>16.43</td>\n",
       "      <td>A</td>\n",
       "    </tr>\n",
       "    <tr>\n",
       "      <th>4</th>\n",
       "      <td>id-005</td>\n",
       "      <td>13.39</td>\n",
       "      <td>-3.20</td>\n",
       "      <td>i</td>\n",
       "      <td>l</td>\n",
       "      <td>v</td>\n",
       "      <td>2.23</td>\n",
       "      <td>11.76</td>\n",
       "      <td>1.34</td>\n",
       "      <td>4.16</td>\n",
       "      <td>-6.49</td>\n",
       "      <td>B</td>\n",
       "    </tr>\n",
       "    <tr>\n",
       "      <th>...</th>\n",
       "      <td>...</td>\n",
       "      <td>...</td>\n",
       "      <td>...</td>\n",
       "      <td>...</td>\n",
       "      <td>...</td>\n",
       "      <td>...</td>\n",
       "      <td>...</td>\n",
       "      <td>...</td>\n",
       "      <td>...</td>\n",
       "      <td>...</td>\n",
       "      <td>...</td>\n",
       "      <td>...</td>\n",
       "    </tr>\n",
       "    <tr>\n",
       "      <th>485</th>\n",
       "      <td>id-486</td>\n",
       "      <td>12.54</td>\n",
       "      <td>3.16</td>\n",
       "      <td>h</td>\n",
       "      <td>m</td>\n",
       "      <td>v</td>\n",
       "      <td>-3.49</td>\n",
       "      <td>-16.43</td>\n",
       "      <td>-3.70</td>\n",
       "      <td>-4.12</td>\n",
       "      <td>-2.83</td>\n",
       "      <td>D</td>\n",
       "    </tr>\n",
       "    <tr>\n",
       "      <th>486</th>\n",
       "      <td>id-487</td>\n",
       "      <td>8.10</td>\n",
       "      <td>-2.49</td>\n",
       "      <td>i</td>\n",
       "      <td>m</td>\n",
       "      <td>u</td>\n",
       "      <td>-10.61</td>\n",
       "      <td>-1.63</td>\n",
       "      <td>-8.81</td>\n",
       "      <td>18.60</td>\n",
       "      <td>10.92</td>\n",
       "      <td>B</td>\n",
       "    </tr>\n",
       "    <tr>\n",
       "      <th>487</th>\n",
       "      <td>id-488</td>\n",
       "      <td>13.72</td>\n",
       "      <td>-10.59</td>\n",
       "      <td>i</td>\n",
       "      <td>m</td>\n",
       "      <td>y</td>\n",
       "      <td>-32.73</td>\n",
       "      <td>-3.94</td>\n",
       "      <td>NaN</td>\n",
       "      <td>8.97</td>\n",
       "      <td>-8.30</td>\n",
       "      <td>C</td>\n",
       "    </tr>\n",
       "    <tr>\n",
       "      <th>488</th>\n",
       "      <td>id-489</td>\n",
       "      <td>-6.12</td>\n",
       "      <td>-6.37</td>\n",
       "      <td>e</td>\n",
       "      <td>m</td>\n",
       "      <td>u</td>\n",
       "      <td>22.34</td>\n",
       "      <td>-4.66</td>\n",
       "      <td>-10.86</td>\n",
       "      <td>-17.77</td>\n",
       "      <td>-0.21</td>\n",
       "      <td>C</td>\n",
       "    </tr>\n",
       "    <tr>\n",
       "      <th>489</th>\n",
       "      <td>id-490</td>\n",
       "      <td>-4.73</td>\n",
       "      <td>-10.89</td>\n",
       "      <td>g</td>\n",
       "      <td>n</td>\n",
       "      <td>x</td>\n",
       "      <td>-20.01</td>\n",
       "      <td>16.22</td>\n",
       "      <td>-9.36</td>\n",
       "      <td>9.43</td>\n",
       "      <td>-2.02</td>\n",
       "      <td>B</td>\n",
       "    </tr>\n",
       "  </tbody>\n",
       "</table>\n",
       "<p>490 rows × 12 columns</p>\n",
       "</div>"
      ],
      "text/plain": [
       "         id     x1     x2 x3 x4 x5     x6     x7     x8     x9    x10  y\n",
       "0    id-001  22.34   0.56  g  o  u   9.43  25.38 -20.91 -25.84   4.08  B\n",
       "1    id-002  -2.31   7.36  i  p  y  -3.94    NaN  31.65  12.95   9.82  C\n",
       "2    id-003 -17.55  -4.09  f  l  v -11.02  -1.77 -17.57  15.98  11.43  D\n",
       "3    id-004 -13.54  -5.42  g  p  x   4.11   2.22  16.72   9.86  16.43  A\n",
       "4    id-005  13.39  -3.20  i  l  v   2.23  11.76   1.34   4.16  -6.49  B\n",
       "..      ...    ...    ... .. .. ..    ...    ...    ...    ...    ... ..\n",
       "485  id-486  12.54   3.16  h  m  v  -3.49 -16.43  -3.70  -4.12  -2.83  D\n",
       "486  id-487   8.10  -2.49  i  m  u -10.61  -1.63  -8.81  18.60  10.92  B\n",
       "487  id-488  13.72 -10.59  i  m  y -32.73  -3.94    NaN   8.97  -8.30  C\n",
       "488  id-489  -6.12  -6.37  e  m  u  22.34  -4.66 -10.86 -17.77  -0.21  C\n",
       "489  id-490  -4.73 -10.89  g  n  x -20.01  16.22  -9.36   9.43  -2.02  B\n",
       "\n",
       "[490 rows x 12 columns]"
      ]
     },
     "execution_count": 9,
     "metadata": {},
     "output_type": "execute_result"
    }
   ],
   "source": [
    "df_clss = pd.read_csv('Ex1-Class-train-1.csv')\n",
    "df_clss"
   ]
  },
  {
   "attachments": {},
   "cell_type": "markdown",
   "metadata": {},
   "source": [
    "Exploratory Data Analysis"
   ]
  },
  {
   "attachments": {},
   "cell_type": "markdown",
   "metadata": {},
   "source": [
    "Check Missing Data"
   ]
  },
  {
   "cell_type": "code",
   "execution_count": 10,
   "metadata": {},
   "outputs": [
    {
     "data": {
      "text/plain": [
       "id     10\n",
       "x1     10\n",
       "x2     10\n",
       "x3     10\n",
       "x4     10\n",
       "x5     10\n",
       "x6     10\n",
       "x7     10\n",
       "x8     10\n",
       "x9     10\n",
       "x10    10\n",
       "y      10\n",
       "dtype: int64"
      ]
     },
     "execution_count": 10,
     "metadata": {},
     "output_type": "execute_result"
    }
   ],
   "source": [
    "df_clss.isnull().sum()"
   ]
  },
  {
   "attachments": {},
   "cell_type": "markdown",
   "metadata": {},
   "source": [
    "Since there is missing data, remove missing data"
   ]
  },
  {
   "cell_type": "code",
   "execution_count": 11,
   "metadata": {},
   "outputs": [
    {
     "data": {
      "text/plain": [
       "id     10\n",
       "x1     10\n",
       "x2     10\n",
       "x3     10\n",
       "x4     10\n",
       "x5     10\n",
       "x6     10\n",
       "x7     10\n",
       "x8     10\n",
       "x9     10\n",
       "x10    10\n",
       "y      10\n",
       "dtype: int64"
      ]
     },
     "execution_count": 11,
     "metadata": {},
     "output_type": "execute_result"
    }
   ],
   "source": [
    "df_clss.dropna()\n",
    "df_clss.isnull().sum()"
   ]
  }
 ],
 "metadata": {
  "kernelspec": {
   "display_name": "cognitivePro",
   "language": "python",
   "name": "python3"
  },
  "language_info": {
   "codemirror_mode": {
    "name": "ipython",
    "version": 3
   },
   "file_extension": ".py",
   "mimetype": "text/x-python",
   "name": "python",
   "nbconvert_exporter": "python",
   "pygments_lexer": "ipython3",
   "version": "3.7.13"
  },
  "orig_nbformat": 4,
  "vscode": {
   "interpreter": {
    "hash": "64b34100a4ccaf432ac2f69893d49fa972ac8a6822810e4c733d763c21188344"
   }
  }
 },
 "nbformat": 4,
 "nbformat_minor": 2
}

{
 "cells": [
  {
   "attachments": {},
   "cell_type": "markdown",
   "metadata": {},
   "source": [
    "# Assignment 2"
   ]
  },
  {
   "attachments": {},
   "cell_type": "markdown",
   "metadata": {},
   "source": [
    "### Imports"
   ]
  },
  {
   "cell_type": "code",
   "execution_count": 1,
   "metadata": {},
   "outputs": [],
   "source": [
    "import cv2\n",
    "import numpy as np"
   ]
  },
  {
   "attachments": {},
   "cell_type": "markdown",
   "metadata": {},
   "source": [
    "### Initial Picture"
   ]
  },
  {
   "cell_type": "code",
   "execution_count": 2,
   "metadata": {},
   "outputs": [],
   "source": [
    "img1 = np.zeros((300, 300, 3), dtype=\"uint8\")\n",
    "for i in range(7):\n",
    "    cv2.circle(img1, (150, 150), i * 25, (255, 255, 255))\n",
    "\n",
    "cv2.imshow('circles', img1)\n",
    "cv2.waitKey(0)"
   ]
  },
  {
   "attachments": {},
   "cell_type": "markdown",
   "metadata": {},
   "source": [
    "### Second Picture"
   ]
  },
  {
   "cell_type": "code",
   "execution_count": null,
   "metadata": {},
   "outputs": [],
   "source": [
    "img2 = cv2.imread(\"/Users/tonkhaow/Desktop/Cognitive-Computing/OpenCV/Week 2/Assignment2_pycharm/Cat03.jpg\")\n",
    "img2 = cv2.cvtColor(img2, cv2.COLOR_BGR2GRAY)\n",
    "cv2.imshow(\"Grayscale Cat\", img2)\n",
    "cv2.waitKey()"
   ]
  },
  {
   "attachments": {},
   "cell_type": "markdown",
   "metadata": {},
   "source": [
    "### Third Picture"
   ]
  },
  {
   "cell_type": "code",
   "execution_count": null,
   "metadata": {},
   "outputs": [],
   "source": [
    "img3 = cv2.imread(\"cat_image.png\")\n",
    "\n",
    "mask = np.zeros(img3.shape[:2], dtype = \"uint8\")\n",
    "(cX, cY) = (img3.shape[1] // 2, img3.shape[0] // 2)\n",
    "cv2.circle(mask, (cX, cY), cY, color=150, thickness=-1)\n",
    "\n",
    "masked = cv2.bitwise_and(img3, img3, mask = mask)\n",
    "cv2.imshow(\"Circle Puss\", masked)\n",
    "cv2.waitKey(0)"
   ]
  }
 ],
 "metadata": {
  "kernelspec": {
   "display_name": "Python 3",
   "language": "python",
   "name": "python3"
  },
  "language_info": {
   "codemirror_mode": {
    "name": "ipython",
    "version": 3
   },
   "file_extension": ".py",
   "mimetype": "text/x-python",
   "name": "python",
   "nbconvert_exporter": "python",
   "pygments_lexer": "ipython3",
   "version": "3.6.13"
  },
  "orig_nbformat": 4,
  "vscode": {
   "interpreter": {
    "hash": "8bddc650ef7a858c60f5dbd2c82d3c2eb6649f3f10b472948a2b99ea18cd7fd9"
   }
  }
 },
 "nbformat": 4,
 "nbformat_minor": 2
}
